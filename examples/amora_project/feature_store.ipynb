{
 "cells": [
  {
   "cell_type": "markdown",
   "metadata": {},
   "source": [
    "# Loading .env"
   ]
  },
  {
   "cell_type": "code",
   "execution_count": 21,
   "metadata": {
    "pycharm": {
     "name": "#%%{toggle}\n"
    }
   },
   "outputs": [
    {
     "data": {
      "text/plain": "True"
     },
     "execution_count": 21,
     "metadata": {},
     "output_type": "execute_result"
    }
   ],
   "source": [
    "from dotenv import load_dotenv\n",
    "\n",
    "load_dotenv()"
   ]
  },
  {
   "cell_type": "code",
   "execution_count": 22,
   "metadata": {
    "pycharm": {
     "name": "#%%\n"
    }
   },
   "outputs": [
    {
     "name": "stdout",
     "output_type": "stream",
     "text": [
      "AMORA_TARGET_SCHEMA=amora\n",
      "AMORA_TARGET_PROJECT=amora-data-build-tool\n",
      "AMORA_MODELS_PATH=/Users/diogo/PycharmProjects/amora-data-build-tool/examples/amora_project/models\n",
      "AMORA_TARGET_PATH=/Users/diogo/PycharmProjects/amora-data-build-tool/examples/amora_project/target\n",
      "AMORA_FEATURE_STORE_OFFLINE_STORE_CONFIG={\"project_id\": \"amora-data-build-tool\", \"dataset\": \"amora_feature_store\"}\n",
      "AMORA_FEATURE_STORE_ONLINE_STORE_CONFIG={\"path\": \"/Users/diogo/PycharmProjects/amora-data-build-tool/amora-online-feature-store.db\"}\n",
      "AMORA_FEATURE_STORE_OFFLINE_STORE_TYPE=bigquery\n",
      "AMORA_FEATURE_STORE_ONLINE_STORE_TYPE=sqlite\n",
      "AMORA_FEATURE_STORE_REGISTRY=/Users/diogo/PycharmProjects/amora-data-build-tool/amora-feature-store-registry\n"
     ]
    }
   ],
   "source": [
    "from os import environ\n",
    "\n",
    "for env, value in environ.items():\n",
    "    if env.startswith(\"AMORA\"):\n",
    "        print(f\"{env}={value}\")\n"
   ]
  },
  {
   "cell_type": "markdown",
   "metadata": {},
   "source": [
    "# Fetching a Feature Service from an AmoraModel"
   ]
  },
  {
   "cell_type": "code",
   "execution_count": 23,
   "metadata": {
    "pycharm": {
     "name": "#%%\n"
    }
   },
   "outputs": [
    {
     "data": {
      "text/plain": "<FeatureService(_name = amora_fs__step_count_by_source, _feature_view_projections = [FeatureViewProjection(name='step_count_by_source', name_alias=None, features=[value_avg-ValueType.FLOAT, value_sum-ValueType.FLOAT, value_count-ValueType.FLOAT], join_key_map={})], _tags = {}, _description = None, _created_timestamp = None, _last_updated_timestamp = None)>"
     },
     "execution_count": 23,
     "metadata": {},
     "output_type": "execute_result"
    }
   ],
   "source": [
    "from amora.feature_store.registry import get_feature_service\n",
    "from examples.amora_project.models.step_count_by_source import StepCountBySource\n",
    "\n",
    "\n",
    "feature_service = get_feature_service(StepCountBySource)\n",
    "feature_service"
   ]
  },
  {
   "cell_type": "markdown",
   "metadata": {
    "pycharm": {
     "name": "#%% md\n"
    }
   },
   "source": [
    "# Retrieving Online features\n",
    "\n",
    "Given a list of entities, return the latest available features values"
   ]
  },
  {
   "cell_type": "markdown",
   "source": [
    "## Using a Feature Service reference"
   ],
   "metadata": {
    "collapsed": false,
    "pycharm": {
     "name": "#%% md\n"
    }
   }
  },
  {
   "cell_type": "code",
   "execution_count": 25,
   "outputs": [
    {
     "name": "stderr",
     "output_type": "stream",
     "text": [
      "/Users/diogo/PycharmProjects/amora-data-build-tool/.venv/lib/python3.9/site-packages/feast/feature_store.py:376: UserWarning: The FeatureService object that has been passed in as an argument isinconsistent with the version from Registry. Potentially a newer versionof the FeatureService has been applied to the registry.\n",
      "  warnings.warn(\n",
      "/Users/diogo/PycharmProjects/amora-data-build-tool/.venv/lib/python3.9/site-packages/feast/feature_view.py:100: DeprecationWarning: The argument 'input' is being deprecated. Please use 'batch_source' instead. Feast 0.13 and onwards will not support the argument 'input'.\n",
      "  warnings.warn(\n"
     ]
    },
    {
     "data": {
      "text/plain": "         source_name  value_count  value_sum   value_avg\n0             Mi Fit          6.0      809.0  134.833328\n1       Diogo iPhone          2.0       17.0    8.500000\n2  An invalid source          NaN        NaN         NaN",
      "text/html": "<div>\n<style scoped>\n    .dataframe tbody tr th:only-of-type {\n        vertical-align: middle;\n    }\n\n    .dataframe tbody tr th {\n        vertical-align: top;\n    }\n\n    .dataframe thead th {\n        text-align: right;\n    }\n</style>\n<table border=\"1\" class=\"dataframe\">\n  <thead>\n    <tr style=\"text-align: right;\">\n      <th></th>\n      <th>source_name</th>\n      <th>value_count</th>\n      <th>value_sum</th>\n      <th>value_avg</th>\n    </tr>\n  </thead>\n  <tbody>\n    <tr>\n      <th>0</th>\n      <td>Mi Fit</td>\n      <td>6.0</td>\n      <td>809.0</td>\n      <td>134.833328</td>\n    </tr>\n    <tr>\n      <th>1</th>\n      <td>Diogo iPhone</td>\n      <td>2.0</td>\n      <td>17.0</td>\n      <td>8.500000</td>\n    </tr>\n    <tr>\n      <th>2</th>\n      <td>An invalid source</td>\n      <td>NaN</td>\n      <td>NaN</td>\n      <td>NaN</td>\n    </tr>\n  </tbody>\n</table>\n</div>"
     },
     "execution_count": 25,
     "metadata": {},
     "output_type": "execute_result"
    }
   ],
   "source": [
    "from amora.feature_store import fs\n",
    "\n",
    "features = fs.get_online_features(\n",
    "    features=feature_service,\n",
    "    entity_rows=[\n",
    "        {\"source_name\": \"Mi Fit\"},\n",
    "        {\"source_name\": \"Diogo iPhone\"},\n",
    "        {\"source_name\": \"An invalid source\"}\n",
    "    ]\n",
    ")\n",
    "\n",
    "features.to_df()"
   ],
   "metadata": {
    "collapsed": false,
    "pycharm": {
     "name": "#%%\n"
    }
   }
  },
  {
   "cell_type": "markdown",
   "source": [
    "## Using literal Feature Reference names\n",
    "\n",
    "Feature reference names are generated with the format `{feature_service_name}:{feature_name}`"
   ],
   "metadata": {
    "collapsed": false,
    "pycharm": {
     "name": "#%% md\n"
    }
   }
  },
  {
   "cell_type": "code",
   "execution_count": 26,
   "metadata": {
    "pycharm": {
     "name": "#%%\n"
    }
   },
   "outputs": [
    {
     "data": {
      "text/plain": "         source_name  value_sum\n0             Mi Fit      809.0\n1       Diogo iPhone       17.0\n2  An invalid source        NaN",
      "text/html": "<div>\n<style scoped>\n    .dataframe tbody tr th:only-of-type {\n        vertical-align: middle;\n    }\n\n    .dataframe tbody tr th {\n        vertical-align: top;\n    }\n\n    .dataframe thead th {\n        text-align: right;\n    }\n</style>\n<table border=\"1\" class=\"dataframe\">\n  <thead>\n    <tr style=\"text-align: right;\">\n      <th></th>\n      <th>source_name</th>\n      <th>value_sum</th>\n    </tr>\n  </thead>\n  <tbody>\n    <tr>\n      <th>0</th>\n      <td>Mi Fit</td>\n      <td>809.0</td>\n    </tr>\n    <tr>\n      <th>1</th>\n      <td>Diogo iPhone</td>\n      <td>17.0</td>\n    </tr>\n    <tr>\n      <th>2</th>\n      <td>An invalid source</td>\n      <td>NaN</td>\n    </tr>\n  </tbody>\n</table>\n</div>"
     },
     "execution_count": 26,
     "metadata": {},
     "output_type": "execute_result"
    }
   ],
   "source": [
    "from amora.feature_store import fs\n",
    "\n",
    "\n",
    "features = fs.get_online_features(\n",
    "    features=[\n",
    "        \"step_count_by_source:value_sum\"\n",
    "    ],\n",
    "    entity_rows=[\n",
    "        {\"source_name\": \"Mi Fit\"},\n",
    "        {\"source_name\": \"Diogo iPhone\"},\n",
    "        {\"source_name\": \"An invalid source\"}\n",
    "    ]\n",
    ")\n",
    "\n",
    "features.to_df()"
   ]
  },
  {
   "cell_type": "markdown",
   "metadata": {
    "pycharm": {
     "name": "#%% md\n"
    }
   },
   "source": [
    "# Retrieving Offline/Historical features\n"
   ]
  },
  {
   "cell_type": "code",
   "execution_count": 38,
   "metadata": {
    "pycharm": {
     "name": "#%%\n"
    }
   },
   "outputs": [
    {
     "name": "stderr",
     "output_type": "stream",
     "text": [
      "/Users/diogo/PycharmProjects/amora-data-build-tool/.venv/lib/python3.9/site-packages/feast/feature_store.py:376: UserWarning: The FeatureService object that has been passed in as an argument isinconsistent with the version from Registry. Potentially a newer versionof the FeatureService has been applied to the registry.\n",
      "  warnings.warn(\n",
      "/Users/diogo/PycharmProjects/amora-data-build-tool/.venv/lib/python3.9/site-packages/google/auth/_default.py:79: UserWarning: Your application has authenticated using end user credentials from Google Cloud SDK without a quota project. You might receive a \"quota exceeded\" or \"API not enabled\" error. We recommend you rerun `gcloud auth application-default login` and make sure a quota project is added. Or you can use service accounts instead. For more information about service accounts, see https://cloud.google.com/docs/authentication/\n",
      "  warnings.warn(_CLOUD_SDK_CREDENTIALS_WARNING)\n"
     ]
    },
    {
     "data": {
      "text/html": [
       "<div>\n",
       "<style scoped>\n",
       "    .dataframe tbody tr th:only-of-type {\n",
       "        vertical-align: middle;\n",
       "    }\n",
       "\n",
       "    .dataframe tbody tr th {\n",
       "        vertical-align: top;\n",
       "    }\n",
       "\n",
       "    .dataframe thead th {\n",
       "        text-align: right;\n",
       "    }\n",
       "</style>\n",
       "<table border=\"1\" class=\"dataframe\">\n",
       "  <thead>\n",
       "    <tr style=\"text-align: right;\">\n",
       "      <th></th>\n",
       "      <th>source_name</th>\n",
       "      <th>event_timestamp</th>\n",
       "      <th>value_avg</th>\n",
       "      <th>value_sum</th>\n",
       "      <th>value_count</th>\n",
       "    </tr>\n",
       "  </thead>\n",
       "  <tbody>\n",
       "    <tr>\n",
       "      <th>0</th>\n",
       "      <td>Mi Fit</td>\n",
       "      <td>2021-07-01 17:54:41.332408+00:00</td>\n",
       "      <td>151.666667</td>\n",
       "      <td>910.0</td>\n",
       "      <td>6.0</td>\n",
       "    </tr>\n",
       "    <tr>\n",
       "      <th>1</th>\n",
       "      <td>Mi Fit</td>\n",
       "      <td>2020-05-07 17:54:41.332421+00:00</td>\n",
       "      <td>NaN</td>\n",
       "      <td>NaN</td>\n",
       "      <td>NaN</td>\n",
       "    </tr>\n",
       "    <tr>\n",
       "      <th>2</th>\n",
       "      <td>Diogo iPhone</td>\n",
       "      <td>2021-03-03 17:54:41.332423+00:00</td>\n",
       "      <td>197.333333</td>\n",
       "      <td>592.0</td>\n",
       "      <td>3.0</td>\n",
       "    </tr>\n",
       "    <tr>\n",
       "      <th>3</th>\n",
       "      <td>Diogo iPhone</td>\n",
       "      <td>2020-05-07 17:54:41.332425+00:00</td>\n",
       "      <td>NaN</td>\n",
       "      <td>NaN</td>\n",
       "      <td>NaN</td>\n",
       "    </tr>\n",
       "    <tr>\n",
       "      <th>4</th>\n",
       "      <td>iPhone</td>\n",
       "      <td>2020-09-04 17:54:41.332426+00:00</td>\n",
       "      <td>NaN</td>\n",
       "      <td>NaN</td>\n",
       "      <td>NaN</td>\n",
       "    </tr>\n",
       "  </tbody>\n",
       "</table>\n",
       "</div>"
      ],
      "text/plain": [
       "    source_name                  event_timestamp  ...  value_sum  value_count\n",
       "0        Mi Fit 2021-07-01 17:54:41.332408+00:00  ...      910.0          6.0\n",
       "1        Mi Fit 2020-05-07 17:54:41.332421+00:00  ...        NaN          NaN\n",
       "2  Diogo iPhone 2021-03-03 17:54:41.332423+00:00  ...      592.0          3.0\n",
       "3  Diogo iPhone 2020-05-07 17:54:41.332425+00:00  ...        NaN          NaN\n",
       "4        iPhone 2020-09-04 17:54:41.332426+00:00  ...        NaN          NaN\n",
       "\n",
       "[5 rows x 5 columns]"
      ]
     },
     "execution_count": 38,
     "metadata": {},
     "output_type": "execute_result"
    }
   ],
   "source": [
    "from datetime import datetime, timedelta\n",
    "import pandas as pd\n",
    "\n",
    "\n",
    "df = pd.DataFrame(\n",
    "    data={\n",
    "        \"source_name\": [\n",
    "            \"Mi Fit\",\n",
    "            \"Mi Fit\",\n",
    "            \"Diogo iPhone\",\n",
    "            \"Diogo iPhone\",\n",
    "            \"iPhone\",\n",
    "        ],\n",
    "        \"event_timestamp\": [\n",
    "            datetime.now() - timedelta(days=30*10),\n",
    "            datetime.now() - timedelta(days=30*24),\n",
    "            datetime.now() - timedelta(days=30*14),\n",
    "            datetime.now() - timedelta(days=30*24),\n",
    "            datetime.now() - timedelta(days=30*20),\n",
    "        ]\n",
    "    }\n",
    ")\n",
    "\n",
    "features = fs.get_historical_features(\n",
    "    features=feature_service,\n",
    "    entity_df=df\n",
    ")\n",
    "features.to_df()"
   ]
  },
  {
   "cell_type": "code",
   "execution_count": 45,
   "metadata": {
    "pycharm": {
     "name": "#%%\n"
    }
   },
   "outputs": [
    {
     "data": {
      "text/plain": [
       "[<FeatureView(_name = step_count_by_source, _features = [value_avg-ValueType.FLOAT, value_sum-ValueType.FLOAT, value_count-ValueType.FLOAT], _projection = FeatureViewProjection(name='step_count_by_source', name_alias=None, features=[value_avg-ValueType.FLOAT, value_sum-ValueType.FLOAT, value_count-ValueType.FLOAT], join_key_map={}), created_timestamp = 2022-04-27 19:42:32.006933, last_updated_timestamp = 2022-04-27 20:23:03.377666, entities = ['source_name'], tags = {}, ttl = 1:00:00, online = True, input = <feast.infra.offline_stores.bigquery_source.BigQuerySource object at 0x12792eac0>, batch_source = <feast.infra.offline_stores.bigquery_source.BigQuerySource object at 0x12792eac0>, stream_source = None, materialization_intervals = [(datetime.datetime(2020, 1, 1, 0, 0, tzinfo=<UTC>), datetime.datetime(2022, 1, 1, 0, 0, tzinfo=<UTC>))])>]"
      ]
     },
     "execution_count": 45,
     "metadata": {},
     "output_type": "execute_result"
    }
   ],
   "source": [
    "fs.list_feature_views()"
   ]
  },
  {
   "cell_type": "markdown",
   "source": [
    "# HTTP Feature Serving\n",
    "\n",
    "Make sure to run the feature server using `amora feature-store serve`.\n",
    "\n",
    "> On the examples bellow, I'm assuming a feature server accessible on `localhost:8666`\n",
    "\n",
    "## Listing feature views"
   ],
   "metadata": {
    "collapsed": false,
    "pycharm": {
     "name": "#%% md\n"
    }
   }
  },
  {
   "cell_type": "code",
   "execution_count": 10,
   "outputs": [
    {
     "data": {
      "text/plain": "[{'name': 'step_count_by_source',\n  'features': ['step_count_by_source:value_avg',\n   'step_count_by_source:value_sum',\n   'step_count_by_source:value_count'],\n  'entities': ['source_name']}]"
     },
     "execution_count": 10,
     "metadata": {},
     "output_type": "execute_result"
    }
   ],
   "source": [
    "import requests\n",
    "\n",
    "\n",
    "response = requests.get(\"http://localhost:8666/list-feature-views\")\n",
    "response.json()"
   ],
   "metadata": {
    "collapsed": false,
    "pycharm": {
     "name": "#%%\n"
    }
   }
  },
  {
   "cell_type": "markdown",
   "source": [
    "## Retrieving Online Feature values"
   ],
   "metadata": {
    "collapsed": false,
    "pycharm": {
     "name": "#%% md\n"
    }
   }
  },
  {
   "cell_type": "code",
   "execution_count": 18,
   "outputs": [
    {
     "data": {
      "text/plain": "{'metadata': {'feature_names': ['source_name',\n   'value_count',\n   'value_sum',\n   'value_avg']},\n 'results': [{'values': ['Mi Fit', 6.0, 809.0, 134.8333282470703],\n   'statuses': ['PRESENT', 'PRESENT', 'PRESENT', 'PRESENT'],\n   'event_timestamps': ['1970-01-01T00:00:00Z',\n    '2021-07-23T02:00:00Z',\n    '2021-07-23T02:00:00Z',\n    '2021-07-23T02:00:00Z']},\n  {'values': ['Diogo iPhone', 2.0, 17.0, 8.5],\n   'statuses': ['PRESENT', 'PRESENT', 'PRESENT', 'PRESENT'],\n   'event_timestamps': ['1970-01-01T00:00:00Z',\n    '2021-07-23T02:00:00Z',\n    '2021-07-23T02:00:00Z',\n    '2021-07-23T02:00:00Z']},\n  {'values': ['An invalid source', None, None, None],\n   'statuses': ['PRESENT', 'NOT_FOUND', 'NOT_FOUND', 'NOT_FOUND'],\n   'event_timestamps': ['1970-01-01T00:00:00Z',\n    '2021-07-23T02:00:00Z',\n    '2021-07-23T02:00:00Z',\n    '2021-07-23T02:00:00Z']}]}"
     },
     "execution_count": 18,
     "metadata": {},
     "output_type": "execute_result"
    }
   ],
   "source": [
    "import pandas as pd\n",
    "\n",
    "response = requests.post(\"http://localhost:8666/get-online-features\", json={\n",
    "  \"features\": [\n",
    "    \"step_count_by_source:value_avg\",\n",
    "    \"step_count_by_source:value_sum\",\n",
    "    \"step_count_by_source:value_count\"\n",
    "  ],\n",
    "  \"entities\": {\n",
    "    \"source_name\": [\n",
    "      \"Mi Fit\",\n",
    "      \"Diogo iPhone\",\n",
    "      \"An invalid source\"\n",
    "    ]\n",
    "  }\n",
    "})\n",
    "result = response.json()\n",
    "result"
   ],
   "metadata": {
    "collapsed": false,
    "pycharm": {
     "name": "#%%\n"
    }
   }
  },
  {
   "cell_type": "markdown",
   "source": [
    "### As a `pandas.DataFrame`"
   ],
   "metadata": {
    "collapsed": false,
    "pycharm": {
     "name": "#%% md\n"
    }
   }
  },
  {
   "cell_type": "code",
   "execution_count": 17,
   "outputs": [
    {
     "data": {
      "text/plain": "         source_name  value_count  value_sum   value_avg\n0             Mi Fit          6.0      809.0  134.833328\n1       Diogo iPhone          2.0       17.0    8.500000\n2  An invalid source          NaN        NaN         NaN",
      "text/html": "<div>\n<style scoped>\n    .dataframe tbody tr th:only-of-type {\n        vertical-align: middle;\n    }\n\n    .dataframe tbody tr th {\n        vertical-align: top;\n    }\n\n    .dataframe thead th {\n        text-align: right;\n    }\n</style>\n<table border=\"1\" class=\"dataframe\">\n  <thead>\n    <tr style=\"text-align: right;\">\n      <th></th>\n      <th>source_name</th>\n      <th>value_count</th>\n      <th>value_sum</th>\n      <th>value_avg</th>\n    </tr>\n  </thead>\n  <tbody>\n    <tr>\n      <th>0</th>\n      <td>Mi Fit</td>\n      <td>6.0</td>\n      <td>809.0</td>\n      <td>134.833328</td>\n    </tr>\n    <tr>\n      <th>1</th>\n      <td>Diogo iPhone</td>\n      <td>2.0</td>\n      <td>17.0</td>\n      <td>8.500000</td>\n    </tr>\n    <tr>\n      <th>2</th>\n      <td>An invalid source</td>\n      <td>NaN</td>\n      <td>NaN</td>\n      <td>NaN</td>\n    </tr>\n  </tbody>\n</table>\n</div>"
     },
     "execution_count": 17,
     "metadata": {},
     "output_type": "execute_result"
    }
   ],
   "source": [
    "pd.DataFrame(\n",
    "    columns=result['metadata']['feature_names'],\n",
    "    data=[r['values'] for r in result['results']]\n",
    ")"
   ],
   "metadata": {
    "collapsed": false,
    "pycharm": {
     "name": "#%%\n"
    }
   }
  }
 ],
 "metadata": {
  "kernelspec": {
   "display_name": "Python 3 (ipykernel)",
   "language": "python",
   "name": "python3"
  },
  "language_info": {
   "codemirror_mode": {
    "name": "ipython",
    "version": 3
   },
   "file_extension": ".py",
   "mimetype": "text/x-python",
   "name": "python",
   "nbconvert_exporter": "python",
   "pygments_lexer": "ipython3",
   "version": "3.9.12"
  }
 },
 "nbformat": 4,
 "nbformat_minor": 1
}